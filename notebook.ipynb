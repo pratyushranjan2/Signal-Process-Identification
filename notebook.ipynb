{
  "nbformat": 4,
  "nbformat_minor": 0,
  "metadata": {
    "colab": {
      "name": "SIGNAL PROCESS IDENTIFICATION",
      "provenance": [],
      "collapsed_sections": []
    },
    "kernelspec": {
      "name": "python3",
      "display_name": "Python 3"
    },
    "language_info": {
      "name": "python"
    }
  },
  "cells": [
    {
      "cell_type": "markdown",
      "source": [
        "# Signal Process Identification and Verification of the interpolatable property of Parameterised Neural Networks"
      ],
      "metadata": {
        "id": "3YcOz85uoVu5"
      }
    },
    {
      "cell_type": "code",
      "execution_count": 1,
      "metadata": {
        "id": "HzTg1Sp1IzjS"
      },
      "outputs": [],
      "source": [
        "import torch\n",
        "import numpy as np\n",
        "import torch.nn as nn\n",
        "from torch.utils.data import Dataset, DataLoader, random_split\n",
        "from sklearn.preprocessing import StandardScaler\n",
        "from sklearn.model_selection import train_test_split\n",
        "from sklearn.metrics import roc_auc_score\n",
        "import seaborn as sns"
      ]
    },
    {
      "cell_type": "markdown",
      "source": [
        "Assigning the path of training data(without mass=1000), testing data(without mass=1000) and testing data with mass=1000.\n",
        "\n",
        "---\n",
        "The train_data_path contains data with masses from the set {500, 750, 1250, 1500}.\n",
        "\n",
        "---\n",
        "The test_data_path contains testing data with masses from the set {500, 750, 1250, 1500}.\n",
        "\n",
        "---\n",
        "\n",
        "The test1000_data_path contains data for mass=1000.\n",
        "\n",
        "---\n",
        "We shall train our Neural Network model only for the data with masses from the set {500, 750, 1250, 1500}. But as we shall see later on, when we test on data with mass=1000, our neural network model successfully interpolates and performs a good classification between collisions which produce new particles and collsions which do not.\n",
        "\n",
        "\n",
        "\n"
      ],
      "metadata": {
        "id": "mPz6kR1_eogA"
      }
    },
    {
      "cell_type": "code",
      "source": [
        "# One can change the paths of the respective data if needed\n",
        "\n",
        "train_data_path = '/content/drive/MyDrive/collision_data/not1000_train.csv.gz'\n",
        "test_data_path = '/content/drive/MyDrive/collision_data/not1000_test.csv.gz'\n",
        "test1000_data_path = '/content/drive/MyDrive/collision_data/1000_test.csv.gz'"
      ],
      "metadata": {
        "id": "D3aYRVAkLCgR"
      },
      "execution_count": 2,
      "outputs": []
    },
    {
      "cell_type": "markdown",
      "source": [
        "Loading the training data as numpy array. The first row contains the column labels, hence it is skipped."
      ],
      "metadata": {
        "id": "mqM2eXaUfDFQ"
      }
    },
    {
      "cell_type": "code",
      "source": [
        "data = np.loadtxt(train_data_path, delimiter=',', skiprows=1, dtype=np.float32)\n",
        "print(data.shape)"
      ],
      "metadata": {
        "colab": {
          "base_uri": "https://localhost:8080/"
        },
        "id": "sXTGKWVofu2z",
        "outputId": "e5c6d80a-0d9b-4e60-c0d0-6de2e7aa729a"
      },
      "execution_count": 3,
      "outputs": [
        {
          "output_type": "stream",
          "name": "stdout",
          "text": [
            "(7000000, 29)\n"
          ]
        }
      ]
    },
    {
      "cell_type": "markdown",
      "source": [
        "Splitting the training data into features and labels"
      ],
      "metadata": {
        "id": "0z9Co_PSfSKr"
      }
    },
    {
      "cell_type": "code",
      "source": [
        "X_numpy = data[:, 1:]\n",
        "y_numpy = data[:, 0]"
      ],
      "metadata": {
        "id": "aq0cskP7hZxB"
      },
      "execution_count": 4,
      "outputs": []
    },
    {
      "cell_type": "markdown",
      "source": [
        "Checking for the balance of the labels 0 and 1. As we can see, the label classes are pretty much balanced. The frequency of each label is nearly same."
      ],
      "metadata": {
        "id": "xZyplKVPfXZW"
      }
    },
    {
      "cell_type": "code",
      "source": [
        "(y_numpy == 1).sum() / y_numpy.shape[0]"
      ],
      "metadata": {
        "colab": {
          "base_uri": "https://localhost:8080/"
        },
        "id": "pUURyByBhmih",
        "outputId": "d5add53c-9062-40bb-cefc-c7b1617f3b1c"
      },
      "execution_count": 5,
      "outputs": [
        {
          "output_type": "execute_result",
          "data": {
            "text/plain": [
              "0.5001255714285714"
            ]
          },
          "metadata": {},
          "execution_count": 5
        }
      ]
    },
    {
      "cell_type": "markdown",
      "source": [
        "Furthur dividing the training data into two parts for training and validation. 20% of the training data is kept aside for validtion. We shall train on the remaining 80% of the data."
      ],
      "metadata": {
        "id": "gNEN2GVXf2Tj"
      }
    },
    {
      "cell_type": "code",
      "source": [
        "X_numpy_train, X_numpy_valid, y_numpy_train, y_numpy_valid = train_test_split(X_numpy, y_numpy, test_size=0.2, random_state=2)"
      ],
      "metadata": {
        "id": "6cPMVVCFh53G"
      },
      "execution_count": 5,
      "outputs": []
    },
    {
      "cell_type": "code",
      "source": [
        "X_numpy_train.shape"
      ],
      "metadata": {
        "colab": {
          "base_uri": "https://localhost:8080/"
        },
        "id": "mNdGpbPUj3f4",
        "outputId": "470d3994-8e47-45e4-8960-65e397703967"
      },
      "execution_count": 7,
      "outputs": [
        {
          "output_type": "execute_result",
          "data": {
            "text/plain": [
              "(5600000, 28)"
            ]
          },
          "metadata": {},
          "execution_count": 7
        }
      ]
    },
    {
      "cell_type": "markdown",
      "source": [
        "There are in total 28 features. The last feature is the mass of the new particle produced for the collision sample data. All the 27 features except mass, are normalised. So we only need to scale the mass feature. We use sklearns's Standard Scaler to standard scale the mass feature."
      ],
      "metadata": {
        "id": "kgMMm4U5gG81"
      }
    },
    {
      "cell_type": "code",
      "source": [
        "mass_scaler = StandardScaler()\n",
        "\n",
        "training_masses = X_numpy_train[:, 27].reshape(-1, 1)\n",
        "validation_masses = X_numpy_valid[:, 27].reshape(-1, 1)\n",
        "\n",
        "training_masses = mass_scaler.fit_transform(training_masses)\n",
        "validation_masses = mass_scaler.transform(validation_masses)\n",
        "\n",
        "X_numpy_train[:, 27] = training_masses.flatten()\n",
        "X_numpy_valid[:, 27] = validation_masses.flatten()"
      ],
      "metadata": {
        "id": "dbIuRmfajiho"
      },
      "execution_count": 8,
      "outputs": []
    },
    {
      "cell_type": "markdown",
      "source": [
        "Creating a custom Dataset class for training and validation. The train variable in the constructor acts as a flag. If True, then an instance of the training data will be returned. If False, then an instance of the validation data will be returned."
      ],
      "metadata": {
        "id": "UCV0BOsfg2cX"
      }
    },
    {
      "cell_type": "code",
      "source": [
        "class CollisionData(Dataset):\n",
        "    def __init__(self, train=True):\n",
        "        self.n_samples = y_numpy_train.shape[0] if train else y_numpy_valid.shape[0]\n",
        "        \n",
        "        if train:\n",
        "            self.X = torch.from_numpy(X_numpy_train)\n",
        "            self.y = torch.from_numpy(y_numpy_train).view(self.n_samples, 1)\n",
        "        else:\n",
        "            self.X = torch.from_numpy(X_numpy_valid)\n",
        "            self.y = torch.from_numpy(y_numpy_valid).view(self.n_samples, 1)\n",
        "    \n",
        "    def __getitem__(self, index):\n",
        "        return self.X[index], self.y[index]\n",
        "    \n",
        "    def __len__(self):\n",
        "        return self.n_samples"
      ],
      "metadata": {
        "id": "Ls2c_V8SKkdY"
      },
      "execution_count": 9,
      "outputs": []
    },
    {
      "cell_type": "code",
      "source": [
        "collision_data = CollisionData()"
      ],
      "metadata": {
        "id": "Jps4gnqUVsS6"
      },
      "execution_count": 10,
      "outputs": []
    },
    {
      "cell_type": "code",
      "source": [
        "len(collision_data)"
      ],
      "metadata": {
        "colab": {
          "base_uri": "https://localhost:8080/"
        },
        "id": "KK-yiQI4Vyde",
        "outputId": "d4f0cf0a-e992-4f12-a0f1-975319e2fb81"
      },
      "execution_count": 11,
      "outputs": [
        {
          "output_type": "execute_result",
          "data": {
            "text/plain": [
              "5600000"
            ]
          },
          "metadata": {},
          "execution_count": 11
        }
      ]
    },
    {
      "cell_type": "markdown",
      "source": [
        "Creating a custom model by inheriting from the superclass nn.Module. The constructor takes in a list of layers for the neural network. Upon calling forward, the input is forward propagated across all the layers. In the end the sigmoid activation is applied and the output is returned."
      ],
      "metadata": {
        "id": "IjqN5GN9hkkc"
      }
    },
    {
      "cell_type": "code",
      "source": [
        "class NeuralNetwork(nn.Module):\n",
        "    def __init__(self, layers):\n",
        "        super(NeuralNetwork, self).__init__()\n",
        "        self.layers = layers\n",
        "    \n",
        "    def forward(self, x):\n",
        "        out = x\n",
        "        for layer in self.layers:\n",
        "            out = layer(out)\n",
        "        return torch.sigmoid(out)"
      ],
      "metadata": {
        "id": "dUEIhL4zfNgl"
      },
      "execution_count": 12,
      "outputs": []
    },
    {
      "cell_type": "code",
      "source": [
        "n_features = X_numpy.shape[1]"
      ],
      "metadata": {
        "id": "VDA3yWPTn9OQ"
      },
      "execution_count": 13,
      "outputs": []
    },
    {
      "cell_type": "markdown",
      "source": [
        "Defining the layers for our model, and creating an instance of the model with the same layers. The layers are:\n",
        "\n",
        "\n",
        "1.   Linear Layer with 28 input neurons(number of features) and 128 output neurons.\n",
        "2.   ReLU activation function.\n",
        "\n",
        "1.   Linear Layer with 128 input neurons and 256 output neurons.\n",
        "2.   ReLU activation function.\n",
        "\n",
        "1.   Linear Layer with 256 input neurons and 1 output neuron.\n",
        "\n",
        "\n",
        "\n",
        "\n",
        "\n",
        "\n",
        "\n",
        "\n",
        "\n"
      ],
      "metadata": {
        "id": "u2VN7OwqiLQd"
      }
    },
    {
      "cell_type": "code",
      "source": [
        "layers = [nn.Linear(n_features, 128), nn.ReLU(), nn.Linear(128, 256), nn.ReLU(), nn.Linear(256, 1)]\n",
        "model = NeuralNetwork(layers)"
      ],
      "metadata": {
        "id": "SGYJ3--Gn4BS"
      },
      "execution_count": 14,
      "outputs": []
    },
    {
      "cell_type": "markdown",
      "source": [
        "The function below returns the set of all parameters in our model, which are essentially the weights in the linear layers. The derivative of loss with respect to these weights will be calculated in each iteration while training, and the weights will be updated accordingly."
      ],
      "metadata": {
        "id": "htz_Tblejb7-"
      }
    },
    {
      "cell_type": "code",
      "source": [
        "def get_params(layers):\n",
        "    params = []\n",
        "    for layer in layers:\n",
        "        params += layer.parameters()\n",
        "    return params"
      ],
      "metadata": {
        "id": "YmKm2rz7rHLL"
      },
      "execution_count": 15,
      "outputs": []
    },
    {
      "cell_type": "markdown",
      "source": [
        "We train our model by providing batches of training data with the batch size being 1000. Since we are performing binary classification, the loss function used is Binary Cross Entropy Loss. The optimiser being used is the stochastic gradient descent."
      ],
      "metadata": {
        "id": "U2AVifHzj7Wm"
      }
    },
    {
      "cell_type": "code",
      "source": [
        "epochs = 10\n",
        "learning_rate = 0.01\n",
        "batch_size = 1000\n",
        "criterion = nn.BCELoss()\n",
        "optimiser = torch.optim.SGD(get_params(model.layers), lr=learning_rate)"
      ],
      "metadata": {
        "id": "hql6QNwcnHi0"
      },
      "execution_count": 16,
      "outputs": []
    },
    {
      "cell_type": "markdown",
      "source": [
        "Creating a DataLoader instance for the training data. It shall provide batches of training data one after the other for training."
      ],
      "metadata": {
        "id": "TUY0s07Xlzkz"
      }
    },
    {
      "cell_type": "code",
      "source": [
        "train_loader = DataLoader(dataset = collision_data, batch_size=batch_size, shuffle=True)\n",
        "total_iters = len(train_loader)"
      ],
      "metadata": {
        "id": "1KJGLTZ8r_mh"
      },
      "execution_count": 19,
      "outputs": []
    },
    {
      "cell_type": "code",
      "source": [
        "for epoch in range(epochs):\n",
        "    for i, (features, true_labels) in enumerate(train_loader):\n",
        "        outputs = model(features)\n",
        "        loss = criterion(outputs, true_labels)\n",
        "\n",
        "        optimiser.zero_grad() # We calculate new set of gradients for each iteration\n",
        "        loss.backward()       # Calculate gradients\n",
        "        optimiser.step()      # Update weights(parameters)\n",
        "\n",
        "        if (i+1) % 100 == 0:\n",
        "            print(f'epoch: {epoch+1}/{epochs}. iter: {i+1}/{total_iters}. loss: {loss.item():.4f}')"
      ],
      "metadata": {
        "colab": {
          "base_uri": "https://localhost:8080/"
        },
        "id": "L01HZ3ze0HqB",
        "outputId": "8d59351b-b883-40ed-91e2-00148235da74"
      },
      "execution_count": 20,
      "outputs": [
        {
          "output_type": "stream",
          "name": "stdout",
          "text": [
            "epoch: 1/10. iter: 100/5600. loss: 0.5900\n",
            "epoch: 1/10. iter: 200/5600. loss: 0.5367\n",
            "epoch: 1/10. iter: 300/5600. loss: 0.4932\n",
            "epoch: 1/10. iter: 400/5600. loss: 0.4593\n",
            "epoch: 1/10. iter: 500/5600. loss: 0.4688\n",
            "epoch: 1/10. iter: 600/5600. loss: 0.4324\n",
            "epoch: 1/10. iter: 700/5600. loss: 0.4142\n",
            "epoch: 1/10. iter: 800/5600. loss: 0.3884\n",
            "epoch: 1/10. iter: 900/5600. loss: 0.3971\n",
            "epoch: 1/10. iter: 1000/5600. loss: 0.3954\n",
            "epoch: 1/10. iter: 1100/5600. loss: 0.4079\n",
            "epoch: 1/10. iter: 1200/5600. loss: 0.4258\n",
            "epoch: 1/10. iter: 1300/5600. loss: 0.3641\n",
            "epoch: 1/10. iter: 1400/5600. loss: 0.3565\n",
            "epoch: 1/10. iter: 1500/5600. loss: 0.4132\n",
            "epoch: 1/10. iter: 1600/5600. loss: 0.3837\n",
            "epoch: 1/10. iter: 1700/5600. loss: 0.3742\n",
            "epoch: 1/10. iter: 1800/5600. loss: 0.3875\n",
            "epoch: 1/10. iter: 1900/5600. loss: 0.3755\n",
            "epoch: 1/10. iter: 2000/5600. loss: 0.3561\n",
            "epoch: 1/10. iter: 2100/5600. loss: 0.3567\n",
            "epoch: 1/10. iter: 2200/5600. loss: 0.4226\n",
            "epoch: 1/10. iter: 2300/5600. loss: 0.3469\n",
            "epoch: 1/10. iter: 2400/5600. loss: 0.3780\n",
            "epoch: 1/10. iter: 2500/5600. loss: 0.3701\n",
            "epoch: 1/10. iter: 2600/5600. loss: 0.3714\n",
            "epoch: 1/10. iter: 2700/5600. loss: 0.3613\n",
            "epoch: 1/10. iter: 2800/5600. loss: 0.3897\n",
            "epoch: 1/10. iter: 2900/5600. loss: 0.3566\n",
            "epoch: 1/10. iter: 3000/5600. loss: 0.3635\n",
            "epoch: 1/10. iter: 3100/5600. loss: 0.3592\n",
            "epoch: 1/10. iter: 3200/5600. loss: 0.3834\n",
            "epoch: 1/10. iter: 3300/5600. loss: 0.3749\n",
            "epoch: 1/10. iter: 3400/5600. loss: 0.3646\n",
            "epoch: 1/10. iter: 3500/5600. loss: 0.3644\n",
            "epoch: 1/10. iter: 3600/5600. loss: 0.3750\n",
            "epoch: 1/10. iter: 3700/5600. loss: 0.3457\n",
            "epoch: 1/10. iter: 3800/5600. loss: 0.3873\n",
            "epoch: 1/10. iter: 3900/5600. loss: 0.3361\n",
            "epoch: 1/10. iter: 4000/5600. loss: 0.3248\n",
            "epoch: 1/10. iter: 4100/5600. loss: 0.3732\n",
            "epoch: 1/10. iter: 4200/5600. loss: 0.3755\n",
            "epoch: 1/10. iter: 4300/5600. loss: 0.3670\n",
            "epoch: 1/10. iter: 4400/5600. loss: 0.3799\n",
            "epoch: 1/10. iter: 4500/5600. loss: 0.3566\n",
            "epoch: 1/10. iter: 4600/5600. loss: 0.3577\n",
            "epoch: 1/10. iter: 4700/5600. loss: 0.3409\n",
            "epoch: 1/10. iter: 4800/5600. loss: 0.3370\n",
            "epoch: 1/10. iter: 4900/5600. loss: 0.3509\n",
            "epoch: 1/10. iter: 5000/5600. loss: 0.3655\n",
            "epoch: 1/10. iter: 5100/5600. loss: 0.3316\n",
            "epoch: 1/10. iter: 5200/5600. loss: 0.3558\n",
            "epoch: 1/10. iter: 5300/5600. loss: 0.3598\n",
            "epoch: 1/10. iter: 5400/5600. loss: 0.3518\n",
            "epoch: 1/10. iter: 5500/5600. loss: 0.3478\n",
            "epoch: 1/10. iter: 5600/5600. loss: 0.3417\n",
            "epoch: 2/10. iter: 100/5600. loss: 0.3553\n",
            "epoch: 2/10. iter: 200/5600. loss: 0.3411\n",
            "epoch: 2/10. iter: 300/5600. loss: 0.3741\n",
            "epoch: 2/10. iter: 400/5600. loss: 0.3692\n",
            "epoch: 2/10. iter: 500/5600. loss: 0.3450\n",
            "epoch: 2/10. iter: 600/5600. loss: 0.3478\n",
            "epoch: 2/10. iter: 700/5600. loss: 0.3258\n",
            "epoch: 2/10. iter: 800/5600. loss: 0.3536\n",
            "epoch: 2/10. iter: 900/5600. loss: 0.3266\n",
            "epoch: 2/10. iter: 1000/5600. loss: 0.3314\n",
            "epoch: 2/10. iter: 1100/5600. loss: 0.3599\n",
            "epoch: 2/10. iter: 1200/5600. loss: 0.3588\n",
            "epoch: 2/10. iter: 1300/5600. loss: 0.3249\n",
            "epoch: 2/10. iter: 1400/5600. loss: 0.3450\n",
            "epoch: 2/10. iter: 1500/5600. loss: 0.3639\n",
            "epoch: 2/10. iter: 1600/5600. loss: 0.3492\n",
            "epoch: 2/10. iter: 1700/5600. loss: 0.3543\n",
            "epoch: 2/10. iter: 1800/5600. loss: 0.3550\n",
            "epoch: 2/10. iter: 1900/5600. loss: 0.3641\n",
            "epoch: 2/10. iter: 2000/5600. loss: 0.3326\n",
            "epoch: 2/10. iter: 2100/5600. loss: 0.3540\n",
            "epoch: 2/10. iter: 2200/5600. loss: 0.3322\n",
            "epoch: 2/10. iter: 2300/5600. loss: 0.3194\n",
            "epoch: 2/10. iter: 2400/5600. loss: 0.3421\n",
            "epoch: 2/10. iter: 2500/5600. loss: 0.3419\n",
            "epoch: 2/10. iter: 2600/5600. loss: 0.3168\n",
            "epoch: 2/10. iter: 2700/5600. loss: 0.3405\n",
            "epoch: 2/10. iter: 2800/5600. loss: 0.3331\n",
            "epoch: 2/10. iter: 2900/5600. loss: 0.3283\n",
            "epoch: 2/10. iter: 3000/5600. loss: 0.3590\n",
            "epoch: 2/10. iter: 3100/5600. loss: 0.3426\n",
            "epoch: 2/10. iter: 3200/5600. loss: 0.3295\n",
            "epoch: 2/10. iter: 3300/5600. loss: 0.3288\n",
            "epoch: 2/10. iter: 3400/5600. loss: 0.3167\n",
            "epoch: 2/10. iter: 3500/5600. loss: 0.3468\n",
            "epoch: 2/10. iter: 3600/5600. loss: 0.3580\n",
            "epoch: 2/10. iter: 3700/5600. loss: 0.3685\n",
            "epoch: 2/10. iter: 3800/5600. loss: 0.3258\n",
            "epoch: 2/10. iter: 3900/5600. loss: 0.3585\n",
            "epoch: 2/10. iter: 4000/5600. loss: 0.3382\n",
            "epoch: 2/10. iter: 4100/5600. loss: 0.3841\n",
            "epoch: 2/10. iter: 4200/5600. loss: 0.3447\n",
            "epoch: 2/10. iter: 4300/5600. loss: 0.3600\n",
            "epoch: 2/10. iter: 4400/5600. loss: 0.3265\n",
            "epoch: 2/10. iter: 4500/5600. loss: 0.3035\n",
            "epoch: 2/10. iter: 4600/5600. loss: 0.3144\n",
            "epoch: 2/10. iter: 4700/5600. loss: 0.3205\n",
            "epoch: 2/10. iter: 4800/5600. loss: 0.3657\n",
            "epoch: 2/10. iter: 4900/5600. loss: 0.3587\n",
            "epoch: 2/10. iter: 5000/5600. loss: 0.3049\n",
            "epoch: 2/10. iter: 5100/5600. loss: 0.3524\n",
            "epoch: 2/10. iter: 5200/5600. loss: 0.3222\n",
            "epoch: 2/10. iter: 5300/5600. loss: 0.3305\n",
            "epoch: 2/10. iter: 5400/5600. loss: 0.3377\n",
            "epoch: 2/10. iter: 5500/5600. loss: 0.3757\n",
            "epoch: 2/10. iter: 5600/5600. loss: 0.3475\n",
            "epoch: 3/10. iter: 100/5600. loss: 0.3558\n",
            "epoch: 3/10. iter: 200/5600. loss: 0.3534\n",
            "epoch: 3/10. iter: 300/5600. loss: 0.3431\n",
            "epoch: 3/10. iter: 400/5600. loss: 0.3084\n",
            "epoch: 3/10. iter: 500/5600. loss: 0.3340\n",
            "epoch: 3/10. iter: 600/5600. loss: 0.3407\n",
            "epoch: 3/10. iter: 700/5600. loss: 0.3417\n",
            "epoch: 3/10. iter: 800/5600. loss: 0.3576\n",
            "epoch: 3/10. iter: 900/5600. loss: 0.3384\n",
            "epoch: 3/10. iter: 1000/5600. loss: 0.3227\n",
            "epoch: 3/10. iter: 1100/5600. loss: 0.3416\n",
            "epoch: 3/10. iter: 1200/5600. loss: 0.3369\n",
            "epoch: 3/10. iter: 1300/5600. loss: 0.3239\n",
            "epoch: 3/10. iter: 1400/5600. loss: 0.3444\n",
            "epoch: 3/10. iter: 1500/5600. loss: 0.3343\n",
            "epoch: 3/10. iter: 1600/5600. loss: 0.3312\n",
            "epoch: 3/10. iter: 1700/5600. loss: 0.3232\n",
            "epoch: 3/10. iter: 1800/5600. loss: 0.3500\n",
            "epoch: 3/10. iter: 1900/5600. loss: 0.3343\n",
            "epoch: 3/10. iter: 2000/5600. loss: 0.3174\n",
            "epoch: 3/10. iter: 2100/5600. loss: 0.3328\n",
            "epoch: 3/10. iter: 2200/5600. loss: 0.3494\n",
            "epoch: 3/10. iter: 2300/5600. loss: 0.3516\n",
            "epoch: 3/10. iter: 2400/5600. loss: 0.3318\n",
            "epoch: 3/10. iter: 2500/5600. loss: 0.3398\n",
            "epoch: 3/10. iter: 2600/5600. loss: 0.3438\n",
            "epoch: 3/10. iter: 2700/5600. loss: 0.3120\n",
            "epoch: 3/10. iter: 2800/5600. loss: 0.3376\n",
            "epoch: 3/10. iter: 2900/5600. loss: 0.3364\n",
            "epoch: 3/10. iter: 3000/5600. loss: 0.3516\n",
            "epoch: 3/10. iter: 3100/5600. loss: 0.3247\n",
            "epoch: 3/10. iter: 3200/5600. loss: 0.3182\n",
            "epoch: 3/10. iter: 3300/5600. loss: 0.3284\n",
            "epoch: 3/10. iter: 3400/5600. loss: 0.3603\n",
            "epoch: 3/10. iter: 3500/5600. loss: 0.3204\n",
            "epoch: 3/10. iter: 3600/5600. loss: 0.3179\n",
            "epoch: 3/10. iter: 3700/5600. loss: 0.3387\n",
            "epoch: 3/10. iter: 3800/5600. loss: 0.3685\n",
            "epoch: 3/10. iter: 3900/5600. loss: 0.3114\n",
            "epoch: 3/10. iter: 4000/5600. loss: 0.3479\n",
            "epoch: 3/10. iter: 4100/5600. loss: 0.3309\n",
            "epoch: 3/10. iter: 4200/5600. loss: 0.3323\n",
            "epoch: 3/10. iter: 4300/5600. loss: 0.3220\n",
            "epoch: 3/10. iter: 4400/5600. loss: 0.3247\n",
            "epoch: 3/10. iter: 4500/5600. loss: 0.3253\n",
            "epoch: 3/10. iter: 4600/5600. loss: 0.3322\n",
            "epoch: 3/10. iter: 4700/5600. loss: 0.3290\n",
            "epoch: 3/10. iter: 4800/5600. loss: 0.3225\n",
            "epoch: 3/10. iter: 4900/5600. loss: 0.3219\n",
            "epoch: 3/10. iter: 5000/5600. loss: 0.3480\n",
            "epoch: 3/10. iter: 5100/5600. loss: 0.3126\n",
            "epoch: 3/10. iter: 5200/5600. loss: 0.3340\n",
            "epoch: 3/10. iter: 5300/5600. loss: 0.3291\n",
            "epoch: 3/10. iter: 5400/5600. loss: 0.3399\n",
            "epoch: 3/10. iter: 5500/5600. loss: 0.3307\n",
            "epoch: 3/10. iter: 5600/5600. loss: 0.3192\n",
            "epoch: 4/10. iter: 100/5600. loss: 0.3168\n",
            "epoch: 4/10. iter: 200/5600. loss: 0.3424\n",
            "epoch: 4/10. iter: 300/5600. loss: 0.3439\n",
            "epoch: 4/10. iter: 400/5600. loss: 0.3215\n",
            "epoch: 4/10. iter: 500/5600. loss: 0.3144\n",
            "epoch: 4/10. iter: 600/5600. loss: 0.3384\n",
            "epoch: 4/10. iter: 700/5600. loss: 0.3416\n",
            "epoch: 4/10. iter: 800/5600. loss: 0.3257\n",
            "epoch: 4/10. iter: 900/5600. loss: 0.3462\n",
            "epoch: 4/10. iter: 1000/5600. loss: 0.3595\n",
            "epoch: 4/10. iter: 1100/5600. loss: 0.3449\n",
            "epoch: 4/10. iter: 1200/5600. loss: 0.3203\n",
            "epoch: 4/10. iter: 1300/5600. loss: 0.3573\n",
            "epoch: 4/10. iter: 1400/5600. loss: 0.3211\n",
            "epoch: 4/10. iter: 1500/5600. loss: 0.3254\n",
            "epoch: 4/10. iter: 1600/5600. loss: 0.3489\n",
            "epoch: 4/10. iter: 1700/5600. loss: 0.3554\n",
            "epoch: 4/10. iter: 1800/5600. loss: 0.3389\n",
            "epoch: 4/10. iter: 1900/5600. loss: 0.3187\n",
            "epoch: 4/10. iter: 2000/5600. loss: 0.3192\n",
            "epoch: 4/10. iter: 2100/5600. loss: 0.3362\n",
            "epoch: 4/10. iter: 2200/5600. loss: 0.3185\n",
            "epoch: 4/10. iter: 2300/5600. loss: 0.3304\n",
            "epoch: 4/10. iter: 2400/5600. loss: 0.3305\n",
            "epoch: 4/10. iter: 2500/5600. loss: 0.3305\n",
            "epoch: 4/10. iter: 2600/5600. loss: 0.3068\n",
            "epoch: 4/10. iter: 2700/5600. loss: 0.3081\n",
            "epoch: 4/10. iter: 2800/5600. loss: 0.3298\n",
            "epoch: 4/10. iter: 2900/5600. loss: 0.3376\n",
            "epoch: 4/10. iter: 3000/5600. loss: 0.3131\n",
            "epoch: 4/10. iter: 3100/5600. loss: 0.3065\n",
            "epoch: 4/10. iter: 3200/5600. loss: 0.3566\n",
            "epoch: 4/10. iter: 3300/5600. loss: 0.3419\n",
            "epoch: 4/10. iter: 3400/5600. loss: 0.3429\n",
            "epoch: 4/10. iter: 3500/5600. loss: 0.3306\n",
            "epoch: 4/10. iter: 3600/5600. loss: 0.2886\n",
            "epoch: 4/10. iter: 3700/5600. loss: 0.3243\n",
            "epoch: 4/10. iter: 3800/5600. loss: 0.3172\n",
            "epoch: 4/10. iter: 3900/5600. loss: 0.3310\n",
            "epoch: 4/10. iter: 4000/5600. loss: 0.3073\n",
            "epoch: 4/10. iter: 4100/5600. loss: 0.3372\n",
            "epoch: 4/10. iter: 4200/5600. loss: 0.3069\n",
            "epoch: 4/10. iter: 4300/5600. loss: 0.3056\n",
            "epoch: 4/10. iter: 4400/5600. loss: 0.3151\n",
            "epoch: 4/10. iter: 4500/5600. loss: 0.3365\n",
            "epoch: 4/10. iter: 4600/5600. loss: 0.3367\n",
            "epoch: 4/10. iter: 4700/5600. loss: 0.3236\n",
            "epoch: 4/10. iter: 4800/5600. loss: 0.3155\n",
            "epoch: 4/10. iter: 4900/5600. loss: 0.3298\n",
            "epoch: 4/10. iter: 5000/5600. loss: 0.3212\n",
            "epoch: 4/10. iter: 5100/5600. loss: 0.3718\n",
            "epoch: 4/10. iter: 5200/5600. loss: 0.3191\n",
            "epoch: 4/10. iter: 5300/5600. loss: 0.3561\n",
            "epoch: 4/10. iter: 5400/5600. loss: 0.3333\n",
            "epoch: 4/10. iter: 5500/5600. loss: 0.3412\n",
            "epoch: 4/10. iter: 5600/5600. loss: 0.2908\n",
            "epoch: 5/10. iter: 100/5600. loss: 0.3197\n",
            "epoch: 5/10. iter: 200/5600. loss: 0.3004\n",
            "epoch: 5/10. iter: 300/5600. loss: 0.3178\n",
            "epoch: 5/10. iter: 400/5600. loss: 0.3302\n",
            "epoch: 5/10. iter: 500/5600. loss: 0.3376\n",
            "epoch: 5/10. iter: 600/5600. loss: 0.3128\n",
            "epoch: 5/10. iter: 700/5600. loss: 0.3330\n",
            "epoch: 5/10. iter: 800/5600. loss: 0.3464\n",
            "epoch: 5/10. iter: 900/5600. loss: 0.3782\n",
            "epoch: 5/10. iter: 1000/5600. loss: 0.3253\n",
            "epoch: 5/10. iter: 1100/5600. loss: 0.3327\n",
            "epoch: 5/10. iter: 1200/5600. loss: 0.3122\n",
            "epoch: 5/10. iter: 1300/5600. loss: 0.3402\n",
            "epoch: 5/10. iter: 1400/5600. loss: 0.3269\n",
            "epoch: 5/10. iter: 1500/5600. loss: 0.3137\n",
            "epoch: 5/10. iter: 1600/5600. loss: 0.2978\n",
            "epoch: 5/10. iter: 1700/5600. loss: 0.3328\n",
            "epoch: 5/10. iter: 1800/5600. loss: 0.3242\n",
            "epoch: 5/10. iter: 1900/5600. loss: 0.3275\n",
            "epoch: 5/10. iter: 2000/5600. loss: 0.3529\n",
            "epoch: 5/10. iter: 2100/5600. loss: 0.3425\n",
            "epoch: 5/10. iter: 2200/5600. loss: 0.3313\n",
            "epoch: 5/10. iter: 2300/5600. loss: 0.3218\n",
            "epoch: 5/10. iter: 2400/5600. loss: 0.3145\n",
            "epoch: 5/10. iter: 2500/5600. loss: 0.3342\n",
            "epoch: 5/10. iter: 2600/5600. loss: 0.3420\n",
            "epoch: 5/10. iter: 2700/5600. loss: 0.3456\n",
            "epoch: 5/10. iter: 2800/5600. loss: 0.3074\n",
            "epoch: 5/10. iter: 2900/5600. loss: 0.3335\n",
            "epoch: 5/10. iter: 3000/5600. loss: 0.2995\n",
            "epoch: 5/10. iter: 3100/5600. loss: 0.3129\n",
            "epoch: 5/10. iter: 3200/5600. loss: 0.3167\n",
            "epoch: 5/10. iter: 3300/5600. loss: 0.3300\n",
            "epoch: 5/10. iter: 3400/5600. loss: 0.3248\n",
            "epoch: 5/10. iter: 3500/5600. loss: 0.3607\n",
            "epoch: 5/10. iter: 3600/5600. loss: 0.3337\n",
            "epoch: 5/10. iter: 3700/5600. loss: 0.3277\n",
            "epoch: 5/10. iter: 3800/5600. loss: 0.3160\n",
            "epoch: 5/10. iter: 3900/5600. loss: 0.3251\n",
            "epoch: 5/10. iter: 4000/5600. loss: 0.3170\n",
            "epoch: 5/10. iter: 4100/5600. loss: 0.3138\n",
            "epoch: 5/10. iter: 4200/5600. loss: 0.3165\n",
            "epoch: 5/10. iter: 4300/5600. loss: 0.3278\n",
            "epoch: 5/10. iter: 4400/5600. loss: 0.3196\n",
            "epoch: 5/10. iter: 4500/5600. loss: 0.3518\n",
            "epoch: 5/10. iter: 4600/5600. loss: 0.2980\n",
            "epoch: 5/10. iter: 4700/5600. loss: 0.3394\n",
            "epoch: 5/10. iter: 4800/5600. loss: 0.3502\n",
            "epoch: 5/10. iter: 4900/5600. loss: 0.3436\n",
            "epoch: 5/10. iter: 5000/5600. loss: 0.3176\n",
            "epoch: 5/10. iter: 5100/5600. loss: 0.3038\n",
            "epoch: 5/10. iter: 5200/5600. loss: 0.2932\n",
            "epoch: 5/10. iter: 5300/5600. loss: 0.3402\n",
            "epoch: 5/10. iter: 5400/5600. loss: 0.3297\n",
            "epoch: 5/10. iter: 5500/5600. loss: 0.3129\n",
            "epoch: 5/10. iter: 5600/5600. loss: 0.3214\n",
            "epoch: 6/10. iter: 100/5600. loss: 0.3406\n",
            "epoch: 6/10. iter: 200/5600. loss: 0.3237\n",
            "epoch: 6/10. iter: 300/5600. loss: 0.3313\n",
            "epoch: 6/10. iter: 400/5600. loss: 0.3403\n",
            "epoch: 6/10. iter: 500/5600. loss: 0.3450\n",
            "epoch: 6/10. iter: 600/5600. loss: 0.3195\n",
            "epoch: 6/10. iter: 700/5600. loss: 0.3588\n",
            "epoch: 6/10. iter: 800/5600. loss: 0.3002\n",
            "epoch: 6/10. iter: 900/5600. loss: 0.3479\n",
            "epoch: 6/10. iter: 1000/5600. loss: 0.3404\n",
            "epoch: 6/10. iter: 1100/5600. loss: 0.3072\n",
            "epoch: 6/10. iter: 1200/5600. loss: 0.3349\n",
            "epoch: 6/10. iter: 1300/5600. loss: 0.3123\n",
            "epoch: 6/10. iter: 1400/5600. loss: 0.3357\n",
            "epoch: 6/10. iter: 1500/5600. loss: 0.3078\n",
            "epoch: 6/10. iter: 1600/5600. loss: 0.3272\n",
            "epoch: 6/10. iter: 1700/5600. loss: 0.3027\n",
            "epoch: 6/10. iter: 1800/5600. loss: 0.3270\n",
            "epoch: 6/10. iter: 1900/5600. loss: 0.3238\n",
            "epoch: 6/10. iter: 2000/5600. loss: 0.3158\n",
            "epoch: 6/10. iter: 2100/5600. loss: 0.3314\n",
            "epoch: 6/10. iter: 2200/5600. loss: 0.3188\n",
            "epoch: 6/10. iter: 2300/5600. loss: 0.3218\n",
            "epoch: 6/10. iter: 2400/5600. loss: 0.3320\n",
            "epoch: 6/10. iter: 2500/5600. loss: 0.3104\n",
            "epoch: 6/10. iter: 2600/5600. loss: 0.3248\n",
            "epoch: 6/10. iter: 2700/5600. loss: 0.3545\n",
            "epoch: 6/10. iter: 2800/5600. loss: 0.3219\n",
            "epoch: 6/10. iter: 2900/5600. loss: 0.3138\n",
            "epoch: 6/10. iter: 3000/5600. loss: 0.2973\n",
            "epoch: 6/10. iter: 3100/5600. loss: 0.3025\n",
            "epoch: 6/10. iter: 3200/5600. loss: 0.3201\n",
            "epoch: 6/10. iter: 3300/5600. loss: 0.3348\n",
            "epoch: 6/10. iter: 3400/5600. loss: 0.3035\n",
            "epoch: 6/10. iter: 3500/5600. loss: 0.3202\n",
            "epoch: 6/10. iter: 3600/5600. loss: 0.3025\n",
            "epoch: 6/10. iter: 3700/5600. loss: 0.3137\n",
            "epoch: 6/10. iter: 3800/5600. loss: 0.3052\n",
            "epoch: 6/10. iter: 3900/5600. loss: 0.3078\n",
            "epoch: 6/10. iter: 4000/5600. loss: 0.3068\n",
            "epoch: 6/10. iter: 4100/5600. loss: 0.2941\n",
            "epoch: 6/10. iter: 4200/5600. loss: 0.3272\n",
            "epoch: 6/10. iter: 4300/5600. loss: 0.3192\n",
            "epoch: 6/10. iter: 4400/5600. loss: 0.3081\n",
            "epoch: 6/10. iter: 4500/5600. loss: 0.3472\n",
            "epoch: 6/10. iter: 4600/5600. loss: 0.3193\n",
            "epoch: 6/10. iter: 4700/5600. loss: 0.3432\n",
            "epoch: 6/10. iter: 4800/5600. loss: 0.3496\n",
            "epoch: 6/10. iter: 4900/5600. loss: 0.3275\n",
            "epoch: 6/10. iter: 5000/5600. loss: 0.3130\n",
            "epoch: 6/10. iter: 5100/5600. loss: 0.3226\n",
            "epoch: 6/10. iter: 5200/5600. loss: 0.3197\n",
            "epoch: 6/10. iter: 5300/5600. loss: 0.3085\n",
            "epoch: 6/10. iter: 5400/5600. loss: 0.3073\n",
            "epoch: 6/10. iter: 5500/5600. loss: 0.3345\n",
            "epoch: 6/10. iter: 5600/5600. loss: 0.3324\n",
            "epoch: 7/10. iter: 100/5600. loss: 0.2964\n",
            "epoch: 7/10. iter: 200/5600. loss: 0.3217\n",
            "epoch: 7/10. iter: 300/5600. loss: 0.3221\n",
            "epoch: 7/10. iter: 400/5600. loss: 0.3273\n",
            "epoch: 7/10. iter: 500/5600. loss: 0.3109\n",
            "epoch: 7/10. iter: 600/5600. loss: 0.3260\n",
            "epoch: 7/10. iter: 700/5600. loss: 0.2923\n",
            "epoch: 7/10. iter: 800/5600. loss: 0.2933\n",
            "epoch: 7/10. iter: 900/5600. loss: 0.3361\n",
            "epoch: 7/10. iter: 1000/5600. loss: 0.2889\n",
            "epoch: 7/10. iter: 1100/5600. loss: 0.3343\n",
            "epoch: 7/10. iter: 1200/5600. loss: 0.3259\n",
            "epoch: 7/10. iter: 1300/5600. loss: 0.3232\n",
            "epoch: 7/10. iter: 1400/5600. loss: 0.3125\n",
            "epoch: 7/10. iter: 1500/5600. loss: 0.3464\n",
            "epoch: 7/10. iter: 1600/5600. loss: 0.3027\n",
            "epoch: 7/10. iter: 1700/5600. loss: 0.2968\n",
            "epoch: 7/10. iter: 1800/5600. loss: 0.2988\n",
            "epoch: 7/10. iter: 1900/5600. loss: 0.2939\n",
            "epoch: 7/10. iter: 2000/5600. loss: 0.3232\n",
            "epoch: 7/10. iter: 2100/5600. loss: 0.3241\n",
            "epoch: 7/10. iter: 2200/5600. loss: 0.2923\n",
            "epoch: 7/10. iter: 2300/5600. loss: 0.2919\n",
            "epoch: 7/10. iter: 2400/5600. loss: 0.3143\n",
            "epoch: 7/10. iter: 2500/5600. loss: 0.3145\n",
            "epoch: 7/10. iter: 2600/5600. loss: 0.3424\n",
            "epoch: 7/10. iter: 2700/5600. loss: 0.3069\n",
            "epoch: 7/10. iter: 2800/5600. loss: 0.3266\n",
            "epoch: 7/10. iter: 2900/5600. loss: 0.3392\n",
            "epoch: 7/10. iter: 3000/5600. loss: 0.3283\n",
            "epoch: 7/10. iter: 3100/5600. loss: 0.3128\n",
            "epoch: 7/10. iter: 3200/5600. loss: 0.3104\n",
            "epoch: 7/10. iter: 3300/5600. loss: 0.3203\n",
            "epoch: 7/10. iter: 3400/5600. loss: 0.3152\n",
            "epoch: 7/10. iter: 3500/5600. loss: 0.3051\n",
            "epoch: 7/10. iter: 3600/5600. loss: 0.2757\n",
            "epoch: 7/10. iter: 3700/5600. loss: 0.3322\n",
            "epoch: 7/10. iter: 3800/5600. loss: 0.3147\n",
            "epoch: 7/10. iter: 3900/5600. loss: 0.3170\n",
            "epoch: 7/10. iter: 4000/5600. loss: 0.3016\n",
            "epoch: 7/10. iter: 4100/5600. loss: 0.3115\n",
            "epoch: 7/10. iter: 4200/5600. loss: 0.3208\n",
            "epoch: 7/10. iter: 4300/5600. loss: 0.3103\n",
            "epoch: 7/10. iter: 4400/5600. loss: 0.2857\n",
            "epoch: 7/10. iter: 4500/5600. loss: 0.3199\n",
            "epoch: 7/10. iter: 4600/5600. loss: 0.3204\n",
            "epoch: 7/10. iter: 4700/5600. loss: 0.3272\n",
            "epoch: 7/10. iter: 4800/5600. loss: 0.3034\n",
            "epoch: 7/10. iter: 4900/5600. loss: 0.3084\n",
            "epoch: 7/10. iter: 5000/5600. loss: 0.3221\n",
            "epoch: 7/10. iter: 5100/5600. loss: 0.3218\n",
            "epoch: 7/10. iter: 5200/5600. loss: 0.3161\n",
            "epoch: 7/10. iter: 5300/5600. loss: 0.3026\n",
            "epoch: 7/10. iter: 5400/5600. loss: 0.3001\n",
            "epoch: 7/10. iter: 5500/5600. loss: 0.3353\n",
            "epoch: 7/10. iter: 5600/5600. loss: 0.3410\n",
            "epoch: 8/10. iter: 100/5600. loss: 0.2858\n",
            "epoch: 8/10. iter: 200/5600. loss: 0.3050\n",
            "epoch: 8/10. iter: 300/5600. loss: 0.3035\n",
            "epoch: 8/10. iter: 400/5600. loss: 0.3341\n",
            "epoch: 8/10. iter: 500/5600. loss: 0.3145\n",
            "epoch: 8/10. iter: 600/5600. loss: 0.3259\n",
            "epoch: 8/10. iter: 700/5600. loss: 0.3383\n",
            "epoch: 8/10. iter: 800/5600. loss: 0.3140\n",
            "epoch: 8/10. iter: 900/5600. loss: 0.3465\n",
            "epoch: 8/10. iter: 1000/5600. loss: 0.3155\n",
            "epoch: 8/10. iter: 1100/5600. loss: 0.3051\n",
            "epoch: 8/10. iter: 1200/5600. loss: 0.3005\n",
            "epoch: 8/10. iter: 1300/5600. loss: 0.3430\n",
            "epoch: 8/10. iter: 1400/5600. loss: 0.3499\n",
            "epoch: 8/10. iter: 1500/5600. loss: 0.3441\n",
            "epoch: 8/10. iter: 1600/5600. loss: 0.3032\n",
            "epoch: 8/10. iter: 1700/5600. loss: 0.2844\n",
            "epoch: 8/10. iter: 1800/5600. loss: 0.3478\n",
            "epoch: 8/10. iter: 1900/5600. loss: 0.3212\n",
            "epoch: 8/10. iter: 2000/5600. loss: 0.3291\n",
            "epoch: 8/10. iter: 2100/5600. loss: 0.3374\n",
            "epoch: 8/10. iter: 2200/5600. loss: 0.3285\n",
            "epoch: 8/10. iter: 2300/5600. loss: 0.3107\n",
            "epoch: 8/10. iter: 2400/5600. loss: 0.3131\n",
            "epoch: 8/10. iter: 2500/5600. loss: 0.3222\n",
            "epoch: 8/10. iter: 2600/5600. loss: 0.3302\n",
            "epoch: 8/10. iter: 2700/5600. loss: 0.3254\n",
            "epoch: 8/10. iter: 2800/5600. loss: 0.3128\n",
            "epoch: 8/10. iter: 2900/5600. loss: 0.2968\n",
            "epoch: 8/10. iter: 3000/5600. loss: 0.3231\n",
            "epoch: 8/10. iter: 3100/5600. loss: 0.3208\n",
            "epoch: 8/10. iter: 3200/5600. loss: 0.2970\n",
            "epoch: 8/10. iter: 3300/5600. loss: 0.3201\n",
            "epoch: 8/10. iter: 3400/5600. loss: 0.2976\n",
            "epoch: 8/10. iter: 3500/5600. loss: 0.3115\n",
            "epoch: 8/10. iter: 3600/5600. loss: 0.3205\n",
            "epoch: 8/10. iter: 3700/5600. loss: 0.2960\n",
            "epoch: 8/10. iter: 3800/5600. loss: 0.3005\n",
            "epoch: 8/10. iter: 3900/5600. loss: 0.3324\n",
            "epoch: 8/10. iter: 4000/5600. loss: 0.3298\n",
            "epoch: 8/10. iter: 4100/5600. loss: 0.3115\n",
            "epoch: 8/10. iter: 4200/5600. loss: 0.3097\n",
            "epoch: 8/10. iter: 4300/5600. loss: 0.2925\n",
            "epoch: 8/10. iter: 4400/5600. loss: 0.3177\n",
            "epoch: 8/10. iter: 4500/5600. loss: 0.3279\n",
            "epoch: 8/10. iter: 4600/5600. loss: 0.3231\n",
            "epoch: 8/10. iter: 4700/5600. loss: 0.3196\n",
            "epoch: 8/10. iter: 4800/5600. loss: 0.2996\n",
            "epoch: 8/10. iter: 4900/5600. loss: 0.3188\n",
            "epoch: 8/10. iter: 5000/5600. loss: 0.3007\n",
            "epoch: 8/10. iter: 5100/5600. loss: 0.3209\n",
            "epoch: 8/10. iter: 5200/5600. loss: 0.3157\n",
            "epoch: 8/10. iter: 5300/5600. loss: 0.3008\n",
            "epoch: 8/10. iter: 5400/5600. loss: 0.3126\n",
            "epoch: 8/10. iter: 5500/5600. loss: 0.3156\n",
            "epoch: 8/10. iter: 5600/5600. loss: 0.3169\n",
            "epoch: 9/10. iter: 100/5600. loss: 0.3174\n",
            "epoch: 9/10. iter: 200/5600. loss: 0.2898\n",
            "epoch: 9/10. iter: 300/5600. loss: 0.2960\n",
            "epoch: 9/10. iter: 400/5600. loss: 0.3287\n",
            "epoch: 9/10. iter: 500/5600. loss: 0.3089\n",
            "epoch: 9/10. iter: 600/5600. loss: 0.3183\n",
            "epoch: 9/10. iter: 700/5600. loss: 0.3035\n",
            "epoch: 9/10. iter: 800/5600. loss: 0.2868\n",
            "epoch: 9/10. iter: 900/5600. loss: 0.3271\n",
            "epoch: 9/10. iter: 1000/5600. loss: 0.3164\n",
            "epoch: 9/10. iter: 1100/5600. loss: 0.3160\n",
            "epoch: 9/10. iter: 1200/5600. loss: 0.3510\n",
            "epoch: 9/10. iter: 1300/5600. loss: 0.3130\n",
            "epoch: 9/10. iter: 1400/5600. loss: 0.2857\n",
            "epoch: 9/10. iter: 1500/5600. loss: 0.3206\n",
            "epoch: 9/10. iter: 1600/5600. loss: 0.3257\n",
            "epoch: 9/10. iter: 1700/5600. loss: 0.3135\n",
            "epoch: 9/10. iter: 1800/5600. loss: 0.3201\n",
            "epoch: 9/10. iter: 1900/5600. loss: 0.2876\n",
            "epoch: 9/10. iter: 2000/5600. loss: 0.3334\n",
            "epoch: 9/10. iter: 2100/5600. loss: 0.3322\n",
            "epoch: 9/10. iter: 2200/5600. loss: 0.2866\n",
            "epoch: 9/10. iter: 2300/5600. loss: 0.3072\n",
            "epoch: 9/10. iter: 2400/5600. loss: 0.3143\n",
            "epoch: 9/10. iter: 2500/5600. loss: 0.3078\n",
            "epoch: 9/10. iter: 2600/5600. loss: 0.3035\n",
            "epoch: 9/10. iter: 2700/5600. loss: 0.3093\n",
            "epoch: 9/10. iter: 2800/5600. loss: 0.2866\n",
            "epoch: 9/10. iter: 2900/5600. loss: 0.3350\n",
            "epoch: 9/10. iter: 3000/5600. loss: 0.3379\n",
            "epoch: 9/10. iter: 3100/5600. loss: 0.3373\n",
            "epoch: 9/10. iter: 3200/5600. loss: 0.3188\n",
            "epoch: 9/10. iter: 3300/5600. loss: 0.3140\n",
            "epoch: 9/10. iter: 3400/5600. loss: 0.3279\n",
            "epoch: 9/10. iter: 3500/5600. loss: 0.3258\n",
            "epoch: 9/10. iter: 3600/5600. loss: 0.3135\n",
            "epoch: 9/10. iter: 3700/5600. loss: 0.3172\n",
            "epoch: 9/10. iter: 3800/5600. loss: 0.3276\n",
            "epoch: 9/10. iter: 3900/5600. loss: 0.3213\n",
            "epoch: 9/10. iter: 4000/5600. loss: 0.2862\n",
            "epoch: 9/10. iter: 4100/5600. loss: 0.3216\n",
            "epoch: 9/10. iter: 4200/5600. loss: 0.3163\n",
            "epoch: 9/10. iter: 4300/5600. loss: 0.3047\n",
            "epoch: 9/10. iter: 4400/5600. loss: 0.2997\n",
            "epoch: 9/10. iter: 4500/5600. loss: 0.2893\n",
            "epoch: 9/10. iter: 4600/5600. loss: 0.3161\n",
            "epoch: 9/10. iter: 4700/5600. loss: 0.2902\n",
            "epoch: 9/10. iter: 4800/5600. loss: 0.3306\n",
            "epoch: 9/10. iter: 4900/5600. loss: 0.3346\n",
            "epoch: 9/10. iter: 5000/5600. loss: 0.3209\n",
            "epoch: 9/10. iter: 5100/5600. loss: 0.3036\n",
            "epoch: 9/10. iter: 5200/5600. loss: 0.3239\n",
            "epoch: 9/10. iter: 5300/5600. loss: 0.3483\n",
            "epoch: 9/10. iter: 5400/5600. loss: 0.3314\n",
            "epoch: 9/10. iter: 5500/5600. loss: 0.3006\n",
            "epoch: 9/10. iter: 5600/5600. loss: 0.3144\n",
            "epoch: 10/10. iter: 100/5600. loss: 0.3166\n",
            "epoch: 10/10. iter: 200/5600. loss: 0.3298\n",
            "epoch: 10/10. iter: 300/5600. loss: 0.3265\n",
            "epoch: 10/10. iter: 400/5600. loss: 0.2998\n",
            "epoch: 10/10. iter: 500/5600. loss: 0.3308\n",
            "epoch: 10/10. iter: 600/5600. loss: 0.3071\n",
            "epoch: 10/10. iter: 700/5600. loss: 0.3302\n",
            "epoch: 10/10. iter: 800/5600. loss: 0.2971\n",
            "epoch: 10/10. iter: 900/5600. loss: 0.3054\n",
            "epoch: 10/10. iter: 1000/5600. loss: 0.3155\n",
            "epoch: 10/10. iter: 1100/5600. loss: 0.3081\n",
            "epoch: 10/10. iter: 1200/5600. loss: 0.2897\n",
            "epoch: 10/10. iter: 1300/5600. loss: 0.2916\n",
            "epoch: 10/10. iter: 1400/5600. loss: 0.3080\n",
            "epoch: 10/10. iter: 1500/5600. loss: 0.3166\n",
            "epoch: 10/10. iter: 1600/5600. loss: 0.3337\n",
            "epoch: 10/10. iter: 1700/5600. loss: 0.3183\n",
            "epoch: 10/10. iter: 1800/5600. loss: 0.3039\n",
            "epoch: 10/10. iter: 1900/5600. loss: 0.3362\n",
            "epoch: 10/10. iter: 2000/5600. loss: 0.3392\n",
            "epoch: 10/10. iter: 2100/5600. loss: 0.2979\n",
            "epoch: 10/10. iter: 2200/5600. loss: 0.3343\n",
            "epoch: 10/10. iter: 2300/5600. loss: 0.3165\n",
            "epoch: 10/10. iter: 2400/5600. loss: 0.2808\n",
            "epoch: 10/10. iter: 2500/5600. loss: 0.2978\n",
            "epoch: 10/10. iter: 2600/5600. loss: 0.3300\n",
            "epoch: 10/10. iter: 2700/5600. loss: 0.2998\n",
            "epoch: 10/10. iter: 2800/5600. loss: 0.3276\n",
            "epoch: 10/10. iter: 2900/5600. loss: 0.3111\n",
            "epoch: 10/10. iter: 3000/5600. loss: 0.2892\n",
            "epoch: 10/10. iter: 3100/5600. loss: 0.3112\n",
            "epoch: 10/10. iter: 3200/5600. loss: 0.3153\n",
            "epoch: 10/10. iter: 3300/5600. loss: 0.3179\n",
            "epoch: 10/10. iter: 3400/5600. loss: 0.3033\n",
            "epoch: 10/10. iter: 3500/5600. loss: 0.3227\n",
            "epoch: 10/10. iter: 3600/5600. loss: 0.3048\n",
            "epoch: 10/10. iter: 3700/5600. loss: 0.2975\n",
            "epoch: 10/10. iter: 3800/5600. loss: 0.3064\n",
            "epoch: 10/10. iter: 3900/5600. loss: 0.2968\n",
            "epoch: 10/10. iter: 4000/5600. loss: 0.3110\n",
            "epoch: 10/10. iter: 4100/5600. loss: 0.3153\n",
            "epoch: 10/10. iter: 4200/5600. loss: 0.3277\n",
            "epoch: 10/10. iter: 4300/5600. loss: 0.2838\n",
            "epoch: 10/10. iter: 4400/5600. loss: 0.3169\n",
            "epoch: 10/10. iter: 4500/5600. loss: 0.3008\n",
            "epoch: 10/10. iter: 4600/5600. loss: 0.2799\n",
            "epoch: 10/10. iter: 4700/5600. loss: 0.2844\n",
            "epoch: 10/10. iter: 4800/5600. loss: 0.3123\n",
            "epoch: 10/10. iter: 4900/5600. loss: 0.3173\n",
            "epoch: 10/10. iter: 5000/5600. loss: 0.3394\n",
            "epoch: 10/10. iter: 5100/5600. loss: 0.2733\n",
            "epoch: 10/10. iter: 5200/5600. loss: 0.2994\n",
            "epoch: 10/10. iter: 5300/5600. loss: 0.2929\n",
            "epoch: 10/10. iter: 5400/5600. loss: 0.3151\n",
            "epoch: 10/10. iter: 5500/5600. loss: 0.3425\n",
            "epoch: 10/10. iter: 5600/5600. loss: 0.3159\n"
          ]
        }
      ]
    },
    {
      "cell_type": "markdown",
      "source": [
        "Creating a Dataset instance for validation data."
      ],
      "metadata": {
        "id": "ufsazaN7nINV"
      }
    },
    {
      "cell_type": "code",
      "source": [
        "valid_dataset = CollisionData(train=False)\n",
        "len(valid_dataset)"
      ],
      "metadata": {
        "colab": {
          "base_uri": "https://localhost:8080/"
        },
        "id": "BzscVI-r_fbj",
        "outputId": "8fd3dc27-f7ff-4877-9a89-653136dfb1e3"
      },
      "execution_count": 21,
      "outputs": [
        {
          "output_type": "execute_result",
          "data": {
            "text/plain": [
              "1400000"
            ]
          },
          "metadata": {},
          "execution_count": 21
        }
      ]
    },
    {
      "cell_type": "markdown",
      "source": [
        "Creating a DataLoader instance for validation data."
      ],
      "metadata": {
        "id": "3JlAljuZnPHq"
      }
    },
    {
      "cell_type": "code",
      "source": [
        "valid_loader = DataLoader(dataset = valid_dataset, batch_size=batch_size)"
      ],
      "metadata": {
        "id": "PXDYglHL_zDG"
      },
      "execution_count": 22,
      "outputs": []
    },
    {
      "cell_type": "markdown",
      "source": [
        "Forward propagation of the validation features to get the predicted probabilities(of signal process)"
      ],
      "metadata": {
        "id": "FxXYdouLnUV6"
      }
    },
    {
      "cell_type": "code",
      "source": [
        "predicted_probabilities = []\n",
        "y_valid = []\n",
        "with torch.no_grad():\n",
        "    for features, true_labels in valid_loader:\n",
        "        predicted_probabilities += model(features)\n",
        "        y_valid += true_labels"
      ],
      "metadata": {
        "id": "SHSdvfGVAGCH"
      },
      "execution_count": 23,
      "outputs": []
    },
    {
      "cell_type": "markdown",
      "source": [
        "Each element in the list of predicted_probabilities and y_valid is a tensor. Therefore we extract the values out of the tensor using python's list comprehension."
      ],
      "metadata": {
        "id": "HM9wJeqyojHL"
      }
    },
    {
      "cell_type": "code",
      "source": [
        "predicted_probabilities = [p.item() for p in predicted_probabilities]\n",
        "y_valid = [y.item() for y in y_valid]"
      ],
      "metadata": {
        "id": "cOTJ3YThBpQn"
      },
      "execution_count": 24,
      "outputs": []
    },
    {
      "cell_type": "markdown",
      "source": [
        "Calculating the area under the Receiver Operating Characteristic curve (roc-auc curve) for the validation predictions."
      ],
      "metadata": {
        "id": "Yd2yQxSpo7o2"
      }
    },
    {
      "cell_type": "code",
      "source": [
        "roc_auc_score(y_valid, predicted_probabilities)"
      ],
      "metadata": {
        "colab": {
          "base_uri": "https://localhost:8080/"
        },
        "id": "kGGPKxR3BP_U",
        "outputId": "21297676-67c0-4a85-ced2-0ec0cdc0d353"
      },
      "execution_count": 25,
      "outputs": [
        {
          "output_type": "execute_result",
          "data": {
            "text/plain": [
              "0.9376359861741399"
            ]
          },
          "metadata": {},
          "execution_count": 25
        }
      ]
    },
    {
      "cell_type": "markdown",
      "source": [
        "Loading the test data with masses from the set {500, 750, 1250, 1500} as numpy array. The first row contains the labels so we skip it."
      ],
      "metadata": {
        "id": "uCRWpUiTpX4i"
      }
    },
    {
      "cell_type": "code",
      "source": [
        "test_data = np.loadtxt(test_data_path, delimiter=',', skiprows=1, dtype=np.float32)\n",
        "print(test_data.shape)"
      ],
      "metadata": {
        "colab": {
          "base_uri": "https://localhost:8080/"
        },
        "id": "v1UYfoATWR2u",
        "outputId": "51093e78-e1a8-4aa4-ad00-e583784f609d"
      },
      "execution_count": 27,
      "outputs": [
        {
          "output_type": "stream",
          "name": "stdout",
          "text": [
            "(3500000, 29)\n"
          ]
        }
      ]
    },
    {
      "cell_type": "markdown",
      "source": [
        "Splitting the test data into features and labels."
      ],
      "metadata": {
        "id": "LnaRFIkhqMqS"
      }
    },
    {
      "cell_type": "code",
      "source": [
        "X_test_numpy = test_data[:, 1:]\n",
        "y_test_numpy = test_data[:, 0]"
      ],
      "metadata": {
        "id": "XHHyxAw7XMLM"
      },
      "execution_count": 28,
      "outputs": []
    },
    {
      "cell_type": "markdown",
      "source": [
        "Scaling the mass feature of the test data using the standard scaler we defined for the training data."
      ],
      "metadata": {
        "id": "OCsSNCeMqQPt"
      }
    },
    {
      "cell_type": "code",
      "source": [
        "test_masses = X_test_numpy[:, 27].reshape(-1,1)\n",
        "test_masses = mass_scaler.transform(test_masses)\n",
        "X_test_numpy[:, 27] = test_masses.flatten()"
      ],
      "metadata": {
        "id": "CNArDjI-XWut"
      },
      "execution_count": 29,
      "outputs": []
    },
    {
      "cell_type": "markdown",
      "source": [
        "Creating a custom Dataset for test data."
      ],
      "metadata": {
        "id": "3qdYnq3jqa0n"
      }
    },
    {
      "cell_type": "code",
      "source": [
        "class TestCollisionData(Dataset):\n",
        "    def __init__(self):\n",
        "        self.n_samples = y_test_numpy.shape[0]\n",
        "        self.X = torch.from_numpy(X_test_numpy)\n",
        "        self.y = torch.from_numpy(y_test_numpy).view(self.n_samples, 1)\n",
        "    \n",
        "    def __getitem__(self, index):\n",
        "        return self.X[index], self.y[index]\n",
        "    \n",
        "    def __len__(self):\n",
        "        return self.n_samples"
      ],
      "metadata": {
        "id": "leeiygIcYGAl"
      },
      "execution_count": 30,
      "outputs": []
    },
    {
      "cell_type": "markdown",
      "source": [
        "Creating an instance of the test dataset."
      ],
      "metadata": {
        "id": "X9gObzLuqgIO"
      }
    },
    {
      "cell_type": "code",
      "source": [
        "test_dataset = TestCollisionData()"
      ],
      "metadata": {
        "id": "zfhdoXwkY6FN"
      },
      "execution_count": 31,
      "outputs": []
    },
    {
      "cell_type": "markdown",
      "source": [
        "Creating an instance of test loader for the test data. It shall provide test data in batches of size 1000."
      ],
      "metadata": {
        "id": "NRVrvPa4qjsJ"
      }
    },
    {
      "cell_type": "code",
      "source": [
        "test_loader = DataLoader(dataset = test_dataset, batch_size=batch_size)"
      ],
      "metadata": {
        "id": "NQDd7b9UYzy1"
      },
      "execution_count": 32,
      "outputs": []
    },
    {
      "cell_type": "markdown",
      "source": [
        "Using our trained Neural Network model, we calculate the probabilities of signal processes for the test data. We provide one batch of test data at a time, and perform forward propagation on the batch to get the probabilities."
      ],
      "metadata": {
        "id": "il1XYU--qt28"
      }
    },
    {
      "cell_type": "code",
      "source": [
        "test_probabilities = []\n",
        "y_test = []\n",
        "with torch.no_grad():\n",
        "    for features, true_labels in test_loader:\n",
        "        test_probabilities += model(features)\n",
        "        y_test += true_labels"
      ],
      "metadata": {
        "id": "Kt-q5k2DY_ro"
      },
      "execution_count": 33,
      "outputs": []
    },
    {
      "cell_type": "markdown",
      "source": [
        "Extracting the numerical values out of tensors from test_probabilities list and y_test list."
      ],
      "metadata": {
        "id": "2LAMzvNyrMkT"
      }
    },
    {
      "cell_type": "code",
      "source": [
        "test_probabilities = [p.item() for p in test_probabilities]\n",
        "y_test = [y.item() for y in y_test]"
      ],
      "metadata": {
        "id": "bouqdtr6Zjvu"
      },
      "execution_count": 34,
      "outputs": []
    },
    {
      "cell_type": "markdown",
      "source": [
        "Calculating the area under the Receiver Operating Characteristic curve for the test predictions. Note that this test data contains data with the mass feature from the set {500, 750, 1250, 1500}."
      ],
      "metadata": {
        "id": "a1JPLSefrgVO"
      }
    },
    {
      "cell_type": "code",
      "source": [
        "roc_auc_score(y_test, test_probabilities)"
      ],
      "metadata": {
        "colab": {
          "base_uri": "https://localhost:8080/"
        },
        "id": "kWDq6OoqZrsD",
        "outputId": "3c7f59d9-bd3a-44dc-c245-140e248e88bc"
      },
      "execution_count": 35,
      "outputs": [
        {
          "output_type": "execute_result",
          "data": {
            "text/plain": [
              "0.9375304618898944"
            ]
          },
          "metadata": {},
          "execution_count": 35
        }
      ]
    },
    {
      "cell_type": "markdown",
      "source": [
        "Now we load test data from the dataset with mass=1000. Our model was trained with data with masses from the set {500, 750, 1250, 1500}. It has never seen a data with mass=1000. But since our model is a Neural Network Classifier, it can successfully interpolate and make very good predictions of event processes from the test data with mass=1000."
      ],
      "metadata": {
        "id": "mU9jfsP1sBZl"
      }
    },
    {
      "cell_type": "code",
      "source": [
        "test1000_data = np.loadtxt(test1000_data_path, delimiter=',', skiprows=1, dtype=np.float32)\n",
        "print(test1000_data.shape)"
      ],
      "metadata": {
        "colab": {
          "base_uri": "https://localhost:8080/"
        },
        "id": "cRHyUiUArnwa",
        "outputId": "b87e9be9-90b9-4003-f5b1-518e5c9418b6"
      },
      "execution_count": 38,
      "outputs": [
        {
          "output_type": "stream",
          "name": "stdout",
          "text": [
            "(3500000, 28)\n"
          ]
        }
      ]
    },
    {
      "cell_type": "markdown",
      "source": [
        "Splitting the test data into features and labels."
      ],
      "metadata": {
        "id": "iWoaBXRxsxxn"
      }
    },
    {
      "cell_type": "code",
      "source": [
        "X_test1000_numpy = test1000_data[:, 1:]\n",
        "y_test1000_numpy = test1000_data[:, 0]"
      ],
      "metadata": {
        "id": "-8SbOLPGsojM"
      },
      "execution_count": 54,
      "outputs": []
    },
    {
      "cell_type": "markdown",
      "source": [
        "It is explicitly mentioned that this test dataset is for data with mass=1000. So the mass feature is absent. Therefore we add a column of mass feature into the test features with the value as 1000. It is important because our model expects to see 28 features in the data including the mass feature."
      ],
      "metadata": {
        "id": "L6nqktpys12O"
      }
    },
    {
      "cell_type": "code",
      "source": [
        "X_test1000_numpy = np.column_stack((X_test1000_numpy, np.full(X_test1000_numpy.shape[0], 1000.0).astype(np.float32)))"
      ],
      "metadata": {
        "id": "2jxOnPuetYnu"
      },
      "execution_count": 55,
      "outputs": []
    },
    {
      "cell_type": "markdown",
      "source": [
        "Scaling the mass feature in the test data using the same standard scaler we defined for training data."
      ],
      "metadata": {
        "id": "6zYEK3UXtduc"
      }
    },
    {
      "cell_type": "code",
      "source": [
        "test1000_masses = X_test1000_numpy[:, 27].reshape(-1,1)\n",
        "test1000_masses = mass_scaler.transform(test1000_masses)\n",
        "X_test1000_numpy[:, 27] = test1000_masses.flatten()"
      ],
      "metadata": {
        "id": "RK6LN657sqm_"
      },
      "execution_count": 56,
      "outputs": []
    },
    {
      "cell_type": "markdown",
      "source": [
        "Creating a custom Dataset class for the test data."
      ],
      "metadata": {
        "id": "CnTV4ORytu0B"
      }
    },
    {
      "cell_type": "code",
      "source": [
        "class Test1000CollisionData(Dataset):\n",
        "    def __init__(self):\n",
        "        self.n_samples = y_test1000_numpy.shape[0]\n",
        "        self.X = torch.from_numpy(X_test1000_numpy)\n",
        "        self.y = torch.from_numpy(y_test1000_numpy).view(self.n_samples, 1)\n",
        "    \n",
        "    def __getitem__(self, index):\n",
        "        return self.X[index], self.y[index]\n",
        "    \n",
        "    def __len__(self):\n",
        "        return self.n_samples"
      ],
      "metadata": {
        "id": "Bdt7G824s6iv"
      },
      "execution_count": 57,
      "outputs": []
    },
    {
      "cell_type": "markdown",
      "source": [
        "Creating instances of test dataset and test dataset loader."
      ],
      "metadata": {
        "id": "b1E9q3S7ty0y"
      }
    },
    {
      "cell_type": "code",
      "source": [
        "test1000_dataset = Test1000CollisionData()\n",
        "test1000_loader = DataLoader(dataset = test1000_dataset, batch_size=batch_size)"
      ],
      "metadata": {
        "id": "JLQuBwBvu5JY"
      },
      "execution_count": 58,
      "outputs": []
    },
    {
      "cell_type": "markdown",
      "source": [
        "Forward propagating the test features into our model to get the probabilities of an event process."
      ],
      "metadata": {
        "id": "cbFtEA7qt3Sq"
      }
    },
    {
      "cell_type": "code",
      "source": [
        "test1000_probabilities = []\n",
        "y_test1000 = []\n",
        "with torch.no_grad():\n",
        "    for features, true_labels in test1000_loader:\n",
        "        test1000_probabilities += model(features)\n",
        "        y_test1000 += true_labels"
      ],
      "metadata": {
        "id": "I885tgkqvD_j"
      },
      "execution_count": 59,
      "outputs": []
    },
    {
      "cell_type": "markdown",
      "source": [
        "Extracting the numerical values out the tensors from test1000_probabilities and y_test1000. "
      ],
      "metadata": {
        "id": "4i8fleBBuBv0"
      }
    },
    {
      "cell_type": "code",
      "source": [
        "test1000_probabilities = [p.item() for p in test1000_probabilities]\n",
        "y_test1000 = [y.item() for y in y_test1000]"
      ],
      "metadata": {
        "id": "9CQxrI5Iv84U"
      },
      "execution_count": 60,
      "outputs": []
    },
    {
      "cell_type": "markdown",
      "source": [
        "We now calculate the area under the Receiver Operating Characteristic curve (roc-auc curve) for the test data with the value of mass as 1000. Our model never saw a data with mass=1000. But since the model is a Neural Network Classifier, it successfully interpolates and makes very good predictions of signal processes. The area under the roc-auc curve obtained for test data with mass=1000 is 0.9692 which signifies a very good classification."
      ],
      "metadata": {
        "id": "e8dMPM5tuOEB"
      }
    },
    {
      "cell_type": "code",
      "source": [
        "roc_auc_score(y_test1000, test1000_probabilities)"
      ],
      "metadata": {
        "colab": {
          "base_uri": "https://localhost:8080/"
        },
        "id": "8GqVLOkBwEeg",
        "outputId": "6c05ea8a-03d1-43c0-e7bf-5e945695f827"
      },
      "execution_count": 61,
      "outputs": [
        {
          "output_type": "execute_result",
          "data": {
            "text/plain": [
              "0.9692344399253425"
            ]
          },
          "metadata": {},
          "execution_count": 61
        }
      ]
    },
    {
      "cell_type": "markdown",
      "source": [
        "Distribution plot of the scaled masses in training data."
      ],
      "metadata": {
        "id": "Ep2cTSdjvEYk"
      }
    },
    {
      "cell_type": "code",
      "source": [
        "sns.distplot(X_numpy_train[:, 27])"
      ],
      "metadata": {
        "colab": {
          "base_uri": "https://localhost:8080/",
          "height": 337
        },
        "id": "63AFrgdMb8-f",
        "outputId": "3b23c7cb-987f-4edb-f38f-82861fa62769"
      },
      "execution_count": 62,
      "outputs": [
        {
          "output_type": "stream",
          "name": "stderr",
          "text": [
            "/usr/local/lib/python3.7/dist-packages/seaborn/distributions.py:2619: FutureWarning: `distplot` is a deprecated function and will be removed in a future version. Please adapt your code to use either `displot` (a figure-level function with similar flexibility) or `histplot` (an axes-level function for histograms).\n",
            "  warnings.warn(msg, FutureWarning)\n"
          ]
        },
        {
          "output_type": "execute_result",
          "data": {
            "text/plain": [
              "<matplotlib.axes._subplots.AxesSubplot at 0x7f3604bac210>"
            ]
          },
          "metadata": {},
          "execution_count": 62
        },
        {
          "output_type": "display_data",
          "data": {
            "image/png": "[encoded data removed]",
            "text/plain": [
              "<Figure size 432x288 with 1 Axes>"
            ]
          },
          "metadata": {
            "needs_background": "light"
          }
        }
      ]
    },
    {
      "cell_type": "markdown",
      "source": [
        "Distribution plot of the scaled masses in the test data with mass=1000."
      ],
      "metadata": {
        "id": "TcMhM4i_vK57"
      }
    },
    {
      "cell_type": "code",
      "source": [
        "sns.distplot(X_test1000_numpy[:, 27])"
      ],
      "metadata": {
        "colab": {
          "base_uri": "https://localhost:8080/",
          "height": 372
        },
        "id": "CamejszTcvZ6",
        "outputId": "d621e917-ff05-4e1c-957c-1e1e82e63919"
      },
      "execution_count": 63,
      "outputs": [
        {
          "output_type": "stream",
          "name": "stderr",
          "text": [
            "/usr/local/lib/python3.7/dist-packages/seaborn/distributions.py:2619: FutureWarning: `distplot` is a deprecated function and will be removed in a future version. Please adapt your code to use either `displot` (a figure-level function with similar flexibility) or `histplot` (an axes-level function for histograms).\n",
            "  warnings.warn(msg, FutureWarning)\n",
            "/usr/local/lib/python3.7/dist-packages/seaborn/distributions.py:316: UserWarning: Dataset has 0 variance; skipping density estimate. Pass `warn_singular=False` to disable this warning.\n",
            "  warnings.warn(msg, UserWarning)\n"
          ]
        },
        {
          "output_type": "execute_result",
          "data": {
            "text/plain": [
              "<matplotlib.axes._subplots.AxesSubplot at 0x7f35fe68ead0>"
            ]
          },
          "metadata": {},
          "execution_count": 63
        },
        {
          "output_type": "display_data",
          "data": {
            "image/png": "[encoded data removed]",
            "text/plain": [
              "<Figure size 432x288 with 1 Axes>"
            ]
          },
          "metadata": {
            "needs_background": "light"
          }
        }
      ]
    }
  ]
}